{
 "cells": [
  {
   "cell_type": "markdown",
   "metadata": {},
   "source": [
    "# TP 1 : K-Nearest-Neighbours"
   ]
  },
  {
   "cell_type": "code",
   "execution_count": 2,
   "metadata": {},
   "outputs": [],
   "source": [
    "#imports\n",
    "from sklearn.datasets import fetch_openml\n",
    "from sklearn.model_selection import train_test_split\n",
    "from sklearn.model_selection import KFold\n",
    "from sklearn.neighbors import KNeighborsClassifier\n",
    "from sklearn.model_selection import cross_val_score\n",
    "from time import time\n",
    "import matplotlib.pyplot as plt\n",
    "import numpy as np"
   ]
  },
  {
   "cell_type": "code",
   "execution_count": 3,
   "metadata": {},
   "outputs": [],
   "source": [
    "#load dataset\n",
    "mnist = fetch_openml('mnist_784')"
   ]
  },
  {
   "cell_type": "markdown",
   "metadata": {},
   "source": [
    "## Partie 1 : Exploration du jeu de données\n",
    "### 1.1 Inspection de la structure du jeu de données\n",
    "\n",
    "On analyse la nature et les dimensions des données à notre disposition. Le rôle et la valeur attendue est indiquée en commentaire pour chaque propriété"
   ]
  },
  {
   "cell_type": "code",
   "execution_count": null,
   "metadata": {},
   "outputs": [],
   "source": [
    "#1.1\n",
    "print(mnist) #représentation des paramètres du jeu de données, les images, leurs labels, une description textuelle, les types de données...\n",
    "#La sortie de cette commande a été retirée du rapport, au vu de la place prise par la totalité des informations"
   ]
  },
  {
   "cell_type": "code",
   "execution_count": 23,
   "metadata": {},
   "outputs": [
    {
     "name": "stdout",
     "output_type": "stream",
     "text": [
      "[[0. 0. 0. ... 0. 0. 0.]\n",
      " [0. 0. 0. ... 0. 0. 0.]\n",
      " [0. 0. 0. ... 0. 0. 0.]\n",
      " ...\n",
      " [0. 0. 0. ... 0. 0. 0.]\n",
      " [0. 0. 0. ... 0. 0. 0.]\n",
      " [0. 0. 0. ... 0. 0. 0.]]\n",
      "['5' '0' '4' ... '4' '5' '6']\n",
      "70000\n",
      "(70000, 784)\n",
      "(70000,)\n"
     ]
    }
   ],
   "source": [
    "#et des informations supplémentaires de numpy (9 champs en tout)\n",
    "\n",
    "print (mnist.data) #les images(chiffres) du dataset\n",
    "print (mnist.target) #les labels(chiffre représenté par l'image) du dataset, 1 pour chaque image\n",
    "print (len(mnist.data)) #le nombre d'images du dataset\n",
    "print (mnist.data.shape) #la dimension des images du dataset (70000 * 784)\n",
    "print (mnist.target.shape) #la dimension des labels du dataset (70000 * 1)"
   ]
  },
  {
   "cell_type": "code",
   "execution_count": null,
   "metadata": {},
   "outputs": [],
   "source": [
    "print (mnist.data[0]) #la première image du dataset\n",
    "#La sortie de cette commande a été retirée du rapport, au vu de la place prise par les 784 pixels de l'image"
   ]
  },
  {
   "cell_type": "code",
   "execution_count": 22,
   "metadata": {},
   "outputs": [
    {
     "name": "stdout",
     "output_type": "stream",
     "text": [
      "0.0\n",
      "[0. 0. 0. ... 0. 0. 0.]\n",
      "[[0. 0. 0. ... 0. 0. 0.]\n",
      " [0. 0. 0. ... 0. 0. 0.]\n",
      " [0. 0. 0. ... 0. 0. 0.]\n",
      " ...\n",
      " [0. 0. 0. ... 0. 0. 0.]\n",
      " [0. 0. 0. ... 0. 0. 0.]\n",
      " [0. 0. 0. ... 0. 0. 0.]]\n"
     ]
    }
   ],
   "source": [
    "print (mnist.data[0][1]) #le deuxième pixel de la première image du dataset\n",
    "print (mnist.data[:,1]) #le deuxième pixel de chaque image du dataset\n",
    "print (mnist.data[:100]) #les 100 premières images du dataset"
   ]
  },
  {
   "cell_type": "markdown",
   "metadata": {},
   "source": [
    "### 1.2 Affichage d'une image et du label associé\n",
    "Plot d'une image : \n",
    "- Puisque les images du dataset sont 'écrasées' en une dimension de 784 pixel, on les redimensionne d'abord au format ligne/colonne 28 * 28"
   ]
  },
  {
   "cell_type": "code",
   "execution_count": 5,
   "metadata": {},
   "outputs": [
    {
     "name": "stdout",
     "output_type": "stream",
     "text": [
      "Associated label : 5\n"
     ]
    },
    {
     "data": {
      "image/png": "[encoded data removed]",
      "text/plain": [
       "<Figure size 432x288 with 1 Axes>"
      ]
     },
     "metadata": {
      "needs_background": "light"
     },
     "output_type": "display_data"
    }
   ],
   "source": [
    "img_index = 0\n",
    "images = mnist.data.reshape((-1, 28, 28))\n",
    "plt.imshow(images[img_index],cmap=plt.cm.gray_r,interpolation=\"nearest\")\n",
    "print(\"Associated label :\",mnist.target[img_index])"
   ]
  },
  {
   "cell_type": "markdown",
   "metadata": {},
   "source": [
    "### 1.3 Extraction de données aléatoires\n",
    "Enfin, on utilise les fonctions numpy pour extraire un échantillon aléatoire depuis le jeu de donénes initial, qui servira pour la suite du TP"
   ]
  },
  {
   "cell_type": "code",
   "execution_count": 6,
   "metadata": {},
   "outputs": [],
   "source": [
    "#choose sample size\n",
    "dataset_length = len(mnist.data)\n",
    "sample_size = 5000\n",
    "sample_size = min(dataset_length,sample_size)\n",
    "\n",
    "#extract sample from dataset\n",
    "sample_indexes = np.random.randint(dataset_length, size= sample_size)\n",
    "data, target = np.array([mnist.data[i] for i in sample_indexes]), np.array([mnist.target[i] for i in sample_indexes])"
   ]
  },
  {
   "cell_type": "markdown",
   "metadata": {},
   "source": [
    "## Partie 2 : Méthode KNN\n",
    "### 2.1 Premières classifications"
   ]
  },
  {
   "cell_type": "markdown",
   "metadata": {},
   "source": [
    "#### Diviser la base de données à 80% pour l’apprentissage (training) et à 20% pour les tests"
   ]
  },
  {
   "cell_type": "code",
   "execution_count": 7,
   "metadata": {},
   "outputs": [],
   "source": [
    "train_size = 0.8\n",
    "d_train, d_test, l_train, l_test = train_test_split(data,target,train_size = train_size)"
   ]
  },
  {
   "cell_type": "markdown",
   "metadata": {},
   "source": [
    "#### Entrainer un classifieur k-nn avec k = 10 sur le jeu de données chargé."
   ]
  },
  {
   "cell_type": "code",
   "execution_count": null,
   "metadata": {},
   "outputs": [],
   "source": [
    "clf = KNeighborsClassifier(10)\n",
    "clf.fit(d_train,l_train)"
   ]
  },
  {
   "cell_type": "markdown",
   "metadata": {},
   "source": [
    "#### Afficher la classe de l’image 4 et sa classe prédite"
   ]
  },
  {
   "cell_type": "code",
   "execution_count": 9,
   "metadata": {},
   "outputs": [
    {
     "name": "stdout",
     "output_type": "stream",
     "text": [
      "prediction : 1\n",
      "expected : 1\n"
     ]
    }
   ],
   "source": [
    "pred_index = 3\n",
    "prediction = clf.predict(([data[pred_index]]))[0] #predict method awaits a list of data\n",
    "expected = target[pred_index]\n",
    "print(\"prediction : \" + str(prediction))\n",
    "print(\"expected : \" + str(expected))"
   ]
  },
  {
   "cell_type": "markdown",
   "metadata": {},
   "source": [
    "#### Afficher le score sur l’échantillon de test"
   ]
  },
  {
   "cell_type": "code",
   "execution_count": 10,
   "metadata": {},
   "outputs": [
    {
     "name": "stdout",
     "output_type": "stream",
     "text": [
      "score = 0.922\n"
     ]
    }
   ],
   "source": [
    "score = clf.score(d_test, l_test)\n",
    "print(\"score = \" + str(score))"
   ]
  },
  {
   "cell_type": "markdown",
   "metadata": {},
   "source": [
    "#### Quel est le taux d'erreur sur vos données d'apprentissage ? Est-ce normal ?"
   ]
  },
  {
   "cell_type": "code",
   "execution_count": 11,
   "metadata": {},
   "outputs": [
    {
     "name": "stdout",
     "output_type": "stream",
     "text": [
      "score = 0.93025\n"
     ]
    }
   ],
   "source": [
    "score = clf.score(d_train, l_train)\n",
    "print(\"score = \" + str(score))"
   ]
  },
  {
   "cell_type": "markdown",
   "metadata": {},
   "source": [
    "On obtient un taux d'erreur non-nul (score < 100%)\n",
    "C'était à attendre, puisque le modèle ne n'ajuste pas pour vérifier chaque échantillon du jeu de test, seulement un maximum d'entre eux"
   ]
  },
  {
   "cell_type": "markdown",
   "metadata": {},
   "source": [
    "#### Faire varier le nombre de voisins (k) de 2 jusqu’à 15 et afficher le score. \n",
    "#### Quel est le k optimal ?"
   ]
  },
  {
   "cell_type": "code",
   "execution_count": 14,
   "metadata": {},
   "outputs": [],
   "source": [
    "best_score = 0\n",
    "best_nb = 0 #k optimal\n",
    "train_size = 0.7\n",
    "d_train, d_test, l_train, l_test = train_test_split(data,target,train_size = train_size)\n",
    "n_nb_set = range(2,16)\n",
    "plot=([],[])\n",
    "\n",
    "start = time() #TIMER START\n",
    "\n",
    "for n_nb in n_nb_set:\n",
    "    #print(\"Computing for\",n_nb,train_size)\n",
    "    clf = KNeighborsClassifier(n_nb)\n",
    "    clf.fit(d_train\t,l_train)\n",
    "    score = clf.score(d_test, l_test)\n",
    "    #print(\"Score :\",score)\n",
    "    if score>best_score:\n",
    "        best_nb = n_nb\n",
    "        best_score = score\n",
    "    plot[0].append(n_nb)\n",
    "    plot[1].append(score)\n",
    "    \n",
    "duration = time() - start #TIMER END"
   ]
  },
  {
   "cell_type": "code",
   "execution_count": 15,
   "metadata": {},
   "outputs": [
    {
     "name": "stdout",
     "output_type": "stream",
     "text": [
      "Optimal k : 3 ( score : 0.9153333333333333 )\n",
      "Executed in 145.55909419059753 s\n"
     ]
    },
    {
     "data": {
      "image/png": "[encoded data removed]",
      "text/plain": [
       "<Figure size 432x288 with 1 Axes>"
      ]
     },
     "metadata": {
      "needs_background": "light"
     },
     "output_type": "display_data"
    }
   ],
   "source": [
    "fig,ax = plt.subplots()\n",
    "ax.set_xlabel(\"k neighbours\")\n",
    "ax.set_ylabel(\"score (%)\")\n",
    "ax.set_title(\"Score en fonction du nombre de voisins pris en compte\")\n",
    "ax.plot(plot[0],plot[1])\n",
    "ax.plot([best_nb],[best_score], marker= 'x', color='r')\n",
    "\n",
    "print(\"Optimal k :\", best_nb, \"( score :\",best_score,')')\n",
    "print(\"Executed in\",duration,'s')"
   ]
  },
  {
   "cell_type": "markdown",
   "metadata": {},
   "source": [
    "#### Interprétation\n",
    "Le nombre de voisins(k) optimal semble être 3, avec de bonnes performances jusqu'à 10 voisins. En répétant les analyses, l'optimum exact variait sur cette plage, mais on observe ensuite toujours une dégradation. \n",
    "3 voisins sera donc la valeur retenue pour les prochains tests où l'on devra fixer ce paramètre."
   ]
  },
  {
   "cell_type": "code",
   "execution_count": null,
   "metadata": {},
   "outputs": [],
   "source": [
    "best_score_fold = 0\n",
    "best_nb_fold = 0 #k optimal\n",
    "train_size = 0.8\n",
    "d_train, d_test, l_train, l_test = train_test_split(data,target,train_size = train_size)\n",
    "plot_fold=([],[])\n",
    "kf = KFold(n_splits=15, shuffle=True)\n",
    "\n",
    "start = time() #TIMER START\n",
    "\n",
    "n_nb =2\n",
    "for train_index, test_index in kf.split(d_train, l_train):\n",
    "    clf = KNeighborsClassifier(n_nb)\n",
    "    clf.fit(d_train[train_index], l_train[train_index])\n",
    "    score = clf.score(d_train[test_index], l_train[test_index])\n",
    "    if score>best_score_fold:\n",
    "        best_nb_fold = n_nb\n",
    "        best_score_fold = score\n",
    "    plot_fold[0].append(n_nb)\n",
    "    plot_fold[1].append(score)\n",
    "    n_nb += 1\n",
    "    \n",
    "duration = time() - start #TIMER END"
   ]
  },
  {
   "cell_type": "code",
   "execution_count": 27,
   "metadata": {},
   "outputs": [
    {
     "name": "stdout",
     "output_type": "stream",
     "text": [
      "Optimal k : 8 ( score : 0.9438202247191011 )\n",
      "Executed in 26.24063539505005 s\n"
     ]
    },
    {
     "data": {
      "image/png": "[encoded data removed]",
      "text/plain": [
       "<Figure size 432x288 with 1 Axes>"
      ]
     },
     "metadata": {
      "needs_background": "light"
     },
     "output_type": "display_data"
    }
   ],
   "source": [
    "fig,ax = plt.subplots()\n",
    "ax.set_xlabel(\"k neighbours\")\n",
    "ax.set_ylabel(\"score (%)\")\n",
    "ax.set_title(\"Score en fonction du nombre de voisins pris en compte\")\n",
    "ax.plot(plot_fold[0],plot_fold[1])\n",
    "ax.plot([best_nb_fold],[best_score_fold], marker= 'x', color='r')\n",
    "\n",
    "print(\"Optimal k :\", best_nb_fold, \"( score :\",best_score_fold,')')\n",
    "print(\"Executed in\",duration,'s')"
   ]
  },
  {
   "cell_type": "markdown",
   "metadata": {},
   "source": [
    "## Interprétation\n",
    "La validation croisée confirme globalement les résultats précédents, même si le score 3 voisins apparaît désormais légèrement inférieur aux résultats de la plage autour de 10 voisins. On conservera le chiffre de 3 voisins."
   ]
  },
  {
   "cell_type": "markdown",
   "metadata": {},
   "source": [
    "#### Faites varier le pourcentage des échantillons (training et test) et affichez le score. \n",
    "#### Quel est le pourcentage remarquable ?"
   ]
  },
  {
   "cell_type": "code",
   "execution_count": 16,
   "metadata": {},
   "outputs": [],
   "source": [
    "best_score = 0 \n",
    "best_size = 0 #training sample size\n",
    "train_size_set = [i*0.05 for i in range(6,17)] #variation between 30-80 by 5% steps\n",
    "n_nb = 3 #from previous estimations\n",
    "plot=([],[])\n",
    "\n",
    "start = time() #TIMER START\n",
    "clf = KNeighborsClassifier(n_nb)\n",
    "for train_size in train_size_set:\n",
    "    d_train, d_test, l_train, l_test = train_test_split(data,target,train_size = train_size)\n",
    "    clf.fit(d_train\t,l_train)\n",
    "    score = clf.score(d_test, l_test)\n",
    "    if score>best_score:\n",
    "        best_score = score\n",
    "        best_size = train_size\n",
    "    plot[0].append(100*train_size)\n",
    "    plot[1].append(score)\n",
    "    \n",
    "duration = time() - start #TIMER END"
   ]
  },
  {
   "cell_type": "code",
   "execution_count": 17,
   "metadata": {},
   "outputs": [
    {
     "name": "stdout",
     "output_type": "stream",
     "text": [
      "Optimal training proportion : 0.75 ( score : 0.9408 )\n",
      "Executed in 126.49846696853638 s\n"
     ]
    },
    {
     "data": {
      "image/png": "[encoded data removed]",
      "text/plain": [
       "<Figure size 432x288 with 1 Axes>"
      ]
     },
     "metadata": {
      "needs_background": "light"
     },
     "output_type": "display_data"
    }
   ],
   "source": [
    "fig,ax = plt.subplots()\n",
    "ax.set_xlabel(\"training size (%)\")\n",
    "ax.set_ylabel(\"score (%)\")\n",
    "ax.set_title(\"Score en fonction de la proportion de l'échantillon d'entraînement/test pour k = 3\")\n",
    "ax.plot(plot[0],plot[1])\n",
    "\n",
    "print(\"Optimal training proportion :\",best_size, \"( score :\",best_score,')')\n",
    "print(\"Executed in\",duration,'s')"
   ]
  },
  {
   "cell_type": "markdown",
   "metadata": {},
   "source": [
    "On observe une croissance nette du score jusqu'à 65% du dataset utilisé pour l'entraînement.\n",
    "Le score croit ensuite de nouveau passé 75%, mais le pourcentage de données alors utilisées pour le test perd en signification : si l'on prenait 99% de données d'entraînement, le score serait probablement idéal mais le modèle serait moins pertinent une fois appliqué sur d'autres données.\n",
    "Un bon compromis efficacité/pertinence semble donc être 65% d'entraînement."
   ]
  },
  {
   "cell_type": "markdown",
   "metadata": {},
   "source": [
    "#### Faites varier les types de distances (p). \n",
    "#### Quelle est la meilleure distance ?"
   ]
  },
  {
   "cell_type": "code",
   "execution_count": 19,
   "metadata": {},
   "outputs": [
    {
     "name": "stdout",
     "output_type": "stream",
     "text": [
      "Execution for metric 1 : 10.08952808380127 s\n",
      "Execution for metric 2 : 11.254179954528809 s\n",
      "Execution for metric 3 : 121.73934960365295 s\n",
      "Execution for metric 4 : 119.02021265029907 s\n",
      "Optimal distance : 4 ( score : 0.92 )\n",
      "Executed in 262.1052532196045 s\n"
     ]
    },
    {
     "data": {
      "image/png": "[encoded data removed]",
      "text/plain": [
       "<Figure size 432x288 with 1 Axes>"
      ]
     },
     "metadata": {
      "needs_background": "light"
     },
     "output_type": "display_data"
    }
   ],
   "source": [
    "best_dist = 0\n",
    "best_score = 0\n",
    "dist_set = [1,2,3,4]\n",
    "train_size = 0.65 #from previous tests\n",
    "n_nb = 3 #from previous tests\n",
    "d_train, d_test, l_train, l_test = train_test_split(data,target,train_size = train_size)\n",
    "plot=([],[])\n",
    "\n",
    "start = time() #TIMER START\n",
    "\n",
    "for dist in dist_set:\n",
    "    start_iter = time()\n",
    "    clf = KNeighborsClassifier(n_nb, p = dist)\n",
    "    clf.fit(d_train\t,l_train)\n",
    "    score = clf.score(d_test, l_test)\n",
    "    duration_iter = time()-start_iter\n",
    "    print(\"Execution for metric\",dist,\":\",duration_iter,\"s\")\n",
    "    if score>best_score:\n",
    "        best_score = score\n",
    "        best_dist = dist\n",
    "    plot[0].append(dist)\n",
    "    plot[1].append(score)\n",
    "    \n",
    "duration = time() - start #TIMER END\n",
    "\n",
    "fig,ax = plt.subplots()\n",
    "ax.set_xlabel(\"minkowski metric (p)\")\n",
    "ax.set_ylabel(\"score (%)\")\n",
    "ax.set_title(\"Score en fonction de la proportion de la distance utilisée (1 = mahnattan, 2 = euclid)\")\n",
    "ax.plot(plot[0],plot[1])\n",
    "print(\"Optimal distance :\",best_dist, \"( score :\",best_score,')')\n",
    "print(\"Executed in\",duration,'s')"
   ]
  },
  {
   "cell_type": "markdown",
   "metadata": {},
   "source": [
    "Le meilleur score est donc oobtenu pour la distance de minkowski 4, et la tendance est croissante avec la métrique utilisée.\n",
    "En revanche, les temps d'exécution explosent (x10) lorsque l'on sort des deux métriques classiques manhattan et euclidienne (1 et 2 respectivement). La métrique pertinente semble donc être la distance euclidienne, compromis entre efficacité et rapidité."
   ]
  },
  {
   "cell_type": "markdown",
   "metadata": {},
   "source": [
    "#### Fixez n_job à 1 puis à -1 et calculez le temps de chacun."
   ]
  },
  {
   "cell_type": "code",
   "execution_count": 20,
   "metadata": {},
   "outputs": [
    {
     "name": "stdout",
     "output_type": "stream",
     "text": [
      "Execution for n_jobs = 1: 159.75563859939575 s\n",
      "Execution for n_jobs = -1: 156.8400616645813 s\n"
     ]
    }
   ],
   "source": [
    "train_size = 0.65 #from previous tests\n",
    "n_nb = 3 #from previous tests\n",
    "dist = 2\n",
    "d_train, d_test, l_train, l_test = train_test_split(data,target,train_size = train_size)\n",
    "\n",
    "\n",
    "clfA = KNeighborsClassifier(n_nb, p = dist, n_jobs = 1)\n",
    "clfB = KNeighborsClassifier(n_nb, p = dist, n_jobs = -1)\n",
    "\n",
    "start = time()\n",
    "clfA.fit(d_train, l_train)\n",
    "score = clf.score(d_test, l_test)\n",
    "duration = time() - start\n",
    "print(\"Execution for n_jobs = 1:\",duration,\"s\")\n",
    "\n",
    "start = time()\n",
    "clfB.fit(d_train, l_train)\n",
    "score = clf.score(d_test, l_test)\n",
    "duration = time() - start\n",
    "print(\"Execution for n_jobs = -1:\",duration,\"s\")"
   ]
  },
  {
   "cell_type": "markdown",
   "metadata": {},
   "source": [
    "#### Interprétation :\n",
    "Malheureusement, la fonctionnalité de répartir la prédiction sur plusieurs coeur n'offrait aucun avantage sur la machine à notre disposition sur ce TP, les temps de calcul étaient donc similaires.\n",
    "Dans le cas général, la majeure partie du temps d'exécution de KNN provient du calcul des distances entre les points à prédire et les points du jeu de données d'entraînement. Ces calculs étant indépendant, ils se prêtent parfaitement à l'optimisation par parallélisation sur une machine disposant effectivement de plusieurs coeurs ou sur plusieurs machines par grid computing."
   ]
  },
  {
   "cell_type": "markdown",
   "metadata": {},
   "source": [
    "## Paramètres retenus\n",
    "On retiendra donc les paramètres de 3 voisins et une métrique de distance euclidienne pour les algorithmes KNN."
   ]
  },
  {
   "cell_type": "markdown",
   "metadata": {},
   "source": [
    "## Conclusion sur KNN\n",
    "\n",
    "Les k-nn peuvent être de bons classifieurs mais dépendent lourdement de la nature du jeu de données et offrent des performances peu satisfaisantes en terme de temps de calcul, d'autant plus qu'il 'y a pas relement de division entre apprentissage et prédiction : l'apprentissage consistant seulement à stocker le jeu de données de référence, la complexité de l'algorithme est totalement dédiée à la prédiction.\n",
    "\n",
    "Il est nécessaire de définir un jeu d'entraînement suffisamment petit et néanmoins représentatif. En effet, plus le jeu d'entraînement sera grand, plus le nombre de mesure de distance à effectuer pour une prédiction sera élevé.\n",
    "\n",
    "De plus, la définition de la métrique de distance est cruciale et doit également être un compromis pertinence/temps de calcul car elle sera exécutée de nombreuse fois et représente la quasi totalité de la complexité de l'algorithme."
   ]
  },
  {
   "cell_type": "markdown",
   "metadata": {},
   "source": [
    "# FIN TP 1"
   ]
  }
 ],
 "metadata": {
  "kernelspec": {
   "display_name": "Python 3",
   "language": "python",
   "name": "python3"
  },
  "language_info": {
   "codemirror_mode": {
    "name": "ipython",
    "version": 3
   },
   "file_extension": ".py",
   "mimetype": "text/x-python",
   "name": "python",
   "nbconvert_exporter": "python",
   "pygments_lexer": "ipython3",
   "version": "3.6.6"
  }
 },
 "nbformat": 4,
 "nbformat_minor": 2
}
