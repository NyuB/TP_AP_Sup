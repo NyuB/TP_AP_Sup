{
 "cells": [
  {
   "cell_type": "markdown",
   "metadata": {},
   "source": [
    "# TP3 : Support Vector Machines"
   ]
  },
  {
   "cell_type": "code",
   "execution_count": 1,
   "metadata": {},
   "outputs": [],
   "source": [
    "#imports\n",
    "from sklearn.datasets import fetch_openml\n",
    "from sklearn.model_selection import train_test_split\n",
    "from sklearn.metrics import confusion_matrix\n",
    "from sklearn.svm import SVC\n",
    "from sklearn import metrics\n",
    "from time import time\n",
    "import matplotlib.pyplot as plt\n",
    "import numpy as np\n",
    "import warnings"
   ]
  },
  {
   "cell_type": "code",
   "execution_count": 2,
   "metadata": {},
   "outputs": [],
   "source": [
    "#load dataset\n",
    "mnist = fetch_openml('mnist_784')"
   ]
  },
  {
   "cell_type": "markdown",
   "metadata": {},
   "source": [
    "## [1] Echantillonage du jeu de données et séparation en entraînement/test"
   ]
  },
  {
   "cell_type": "code",
   "execution_count": 3,
   "metadata": {},
   "outputs": [],
   "source": [
    "#choose sample size\n",
    "dataset_length = len(mnist.data)\n",
    "sample_size = 7000\n",
    "sample_size = min(dataset_length,sample_size)\n",
    "\n",
    "#extract sample from dataset\n",
    "sample_indexes = np.random.randint(dataset_length, size= sample_size)\n",
    "data, target = np.array([mnist.data[i] for i in sample_indexes]), np.array([mnist.target[i] for i in sample_indexes])\n",
    "\n",
    "#extract train/test according to the proportion given in the subject\n",
    "train_size = 70/100 #70% de test\n",
    "d_train, d_test, l_train, l_test = train_test_split(data,target,train_size = train_size, random_state = 42)"
   ]
  },
  {
   "cell_type": "markdown",
   "metadata": {},
   "source": [
    "## [2] Premières machines"
   ]
  },
  {
   "cell_type": "code",
   "execution_count": 4,
   "metadata": {},
   "outputs": [
    {
     "name": "stdout",
     "output_type": "stream",
     "text": [
      "First prediction : 4 Actual : 4\n"
     ]
    }
   ],
   "source": [
    "clsvm = SVC(kernel='linear')\n",
    "clsvm.fit(d_train,l_train)\n",
    "prediction = clsvm.predict(d_test[0:1])[0]\n",
    "actual= l_test[0]\n",
    "print(\"First prediction :\",prediction,\"Actual :\",actual)"
   ]
  },
  {
   "cell_type": "markdown",
   "metadata": {},
   "source": [
    "## [3] Analyse"
   ]
  },
  {
   "cell_type": "markdown",
   "metadata": {},
   "source": [
    "#### Paramètre noyau\n",
    "Note : Le paramètre 'precomputed' permet d'indiquer que l'input de la machine a déjà été transformée et redimensionnée, via une opération personalisée au lieu des stndards proposés. Nous n'avions pas de fonctions de transformation particulière à tester, cette option est donc ignorée dans le test.\n",
    "On peut également obtenir le même comportement en passant une fonction de noyau comme argument kernel, qui sera alors appliquée à l'entrée de la machine."
   ]
  },
  {
   "cell_type": "code",
   "execution_count": 5,
   "metadata": {},
   "outputs": [
    {
     "name": "stdout",
     "output_type": "stream",
     "text": [
      "Kernel : linear\n",
      "Kernel : poly\n",
      "Kernel : rbf\n",
      "Kernel : sigmoid\n"
     ]
    }
   ],
   "source": [
    "kernel_set = ['linear','poly', 'rbf','sigmoid']\n",
    "plot = ([],[],[],[],[])\n",
    "for kernel in kernel_set:\n",
    "    print(\"Kernel :\",kernel,end='')\n",
    "    start = time()#TIMER START\n",
    "    \n",
    "    clsvm = SVC(kernel = kernel)\n",
    "    clsvm.fit(d_train,l_train)\n",
    "    prediction = clsvm.predict(d_test)\n",
    "    \n",
    "    duration = time() - start #TIMER END\n",
    "    \n",
    "    recall = metrics.recall_score(l_test, prediction, average = 'micro')\n",
    "    score = metrics.precision_score(l_test, prediction, average='micro')\n",
    "    error = metrics.zero_one_loss(l_test, prediction)\n",
    "    \n",
    "    plot[0].append(kernel)\n",
    "    plot[1].append(100*score)\n",
    "    plot[2].append(100*recall)\n",
    "    plot[3].append(error)\n",
    "    plot[4].append(duration)\n",
    "    print(' | Done')"
   ]
  },
  {
   "cell_type": "code",
   "execution_count": 1,
   "metadata": {},
   "outputs": [
    {
     "ename": "NameError",
     "evalue": "name 'plt' is not defined",
     "output_type": "error",
     "traceback": [
      "\u001b[1;31m---------------------------------------------------------------------------\u001b[0m",
      "\u001b[1;31mNameError\u001b[0m                                 Traceback (most recent call last)",
      "\u001b[1;32m<ipython-input-1-63cc5d4f0d1d>\u001b[0m in \u001b[0;36m<module>\u001b[1;34m()\u001b[0m\n\u001b[1;32m----> 1\u001b[1;33m \u001b[0mfig\u001b[0m\u001b[1;33m=\u001b[0m\u001b[0mplt\u001b[0m\u001b[1;33m.\u001b[0m\u001b[0mfigure\u001b[0m\u001b[1;33m(\u001b[0m\u001b[1;33m)\u001b[0m\u001b[1;33m\u001b[0m\u001b[0m\n\u001b[0m\u001b[0;32m      2\u001b[0m \u001b[0max1\u001b[0m\u001b[1;33m=\u001b[0m\u001b[0mfig\u001b[0m\u001b[1;33m.\u001b[0m\u001b[0madd_subplot\u001b[0m\u001b[1;33m(\u001b[0m\u001b[1;36m111\u001b[0m\u001b[1;33m,\u001b[0m \u001b[0mlabel\u001b[0m\u001b[1;33m=\u001b[0m\u001b[1;34m\"precision\"\u001b[0m\u001b[1;33m)\u001b[0m\u001b[1;33m\u001b[0m\u001b[0m\n\u001b[0;32m      3\u001b[0m \u001b[0max2\u001b[0m\u001b[1;33m=\u001b[0m\u001b[0max1\u001b[0m\u001b[1;33m.\u001b[0m\u001b[0mtwinx\u001b[0m\u001b[1;33m(\u001b[0m\u001b[1;33m)\u001b[0m\u001b[1;33m\u001b[0m\u001b[0m\n\u001b[0;32m      4\u001b[0m \u001b[1;33m\u001b[0m\u001b[0m\n\u001b[0;32m      5\u001b[0m \u001b[1;33m\u001b[0m\u001b[0m\n",
      "\u001b[1;31mNameError\u001b[0m: name 'plt' is not defined"
     ]
    }
   ],
   "source": [
    "fig=plt.figure()\n",
    "ax1=fig.add_subplot(111, label=\"precision\")\n",
    "ax2=ax1.twinx()\n",
    "\n",
    "\n",
    "ax1.plot(plot[0],plot[1],linestyle='None',marker='o',ms=15.0,color='r', label='precision')\n",
    "ax1.plot(plot[0],plot[2],linestyle='None',marker='s',ms=10,color='b', label='recall')\n",
    "ax2.plot(plot[0],plot[3],linestyle='None',marker='^',ms=10,color='g', label='error')\n",
    "\n",
    "ax1.set_ylabel(\"Precision/Recall (%)\")\n",
    "ax2.set_ylabel(\"Error\")\n",
    "ax1.legend(ncol = 2, bbox_to_anchor=(0.45,1.15))\n",
    "ax2.legend(bbox_to_anchor = (0.63, 1.15))\n",
    "\n",
    "fig2=plt.figure()\n",
    "ax3=fig2.add_subplot(111, label=\"error\")\n",
    "ax3.plot(plot[0],plot[4],linestyle='None',marker='X',color='cyan',label='execution')\n",
    "ax3.set_ylabel(\"Time (s)\")\n",
    "ax3.legend(bbox_to_anchor = (0.63, 1.15))\n"
   ]
  },
  {
   "cell_type": "markdown",
   "metadata": {},
   "source": [
    "#### Interprétation\n",
    "La fonction rbf obtient les meilleurs résultats, surpassant les trois autres en terme de précision,recall,erreur.\n",
    "Cependant, elle est également la plus lente. La fonction linear est plus rapide au prix d'une dégradation de rappel et précision. Les deux autres fonctions semblent moins pertinentes pour ce cas : la fonction poly obtient de bons scores mais qui demeurent inférieurs à ceux de la fonction rbf, pour un temps d'exécution proche. La fonction sigmoïde obtient les pires scores pour un temps d'exécution là aussi comparable à rbf, à éviter donc."
   ]
  },
  {
   "cell_type": "markdown",
   "metadata": {},
   "source": [
    "#### Tolérance aux erreurs"
   ]
  },
  {
   "cell_type": "code",
   "execution_count": 14,
   "metadata": {},
   "outputs": [
    {
     "name": "stdout",
     "output_type": "stream",
     "text": [
      "C : 0.1 | Done\n",
      "C : 0.25 | Done\n",
      "C : 0.5 | Done\n",
      "C : 0.75 | Done\n",
      "C : 1.0 | Done\n",
      "C : 1.25 | Done\n",
      "C : 1.5 | Done\n",
      "C : 3 | Done\n",
      "C : 3.5 | Done\n"
     ]
    }
   ],
   "source": [
    "kernel = 'rbf'\n",
    "plot = ([],[],[],[],[])\n",
    "c_set = [0.1,0.25,0.50,0.75,1.0,1.25,1.50,3,3.50]\n",
    "\n",
    "for c in c_set:\n",
    "    print(\"C :\",c, end='')\n",
    "    start = time()#TIMER START\n",
    "    \n",
    "    clsvm = SVC(kernel = kernel, C = c)\n",
    "    clsvm.fit(d_train,l_train)\n",
    "    prediction = clsvm.predict(d_test)\n",
    "    \n",
    "    duration = time() - start #TIMER END\n",
    "    \n",
    "    recall = metrics.recall_score(l_test, prediction, average = 'micro')\n",
    "    score = metrics.precision_score(l_test, prediction, average='micro')\n",
    "    error = metrics.zero_one_loss(l_test, prediction)\n",
    "    \n",
    "    plot[0].append(c)\n",
    "    plot[1].append(100*score)\n",
    "    plot[2].append(100*recall)\n",
    "    plot[3].append(error)\n",
    "    plot[4].append(duration)\n",
    "    print(' | Done')"
   ]
  },
  {
   "cell_type": "code",
   "execution_count": 15,
   "metadata": {},
   "outputs": [
    {
     "data": {
      "text/plain": [
       "<matplotlib.legend.Legend at 0x237bbf920f0>"
      ]
     },
     "execution_count": 15,
     "metadata": {},
     "output_type": "execute_result"
    },
    {
     "data": {
      "image/png": "[encoded data removed]",
      "text/plain": [
       "<Figure size 432x288 with 2 Axes>"
      ]
     },
     "metadata": {
      "needs_background": "light"
     },
     "output_type": "display_data"
    },
    {
     "data": {
      "image/png": "[encoded data removed]",
      "text/plain": [
       "<Figure size 432x288 with 1 Axes>"
      ]
     },
     "metadata": {
      "needs_background": "light"
     },
     "output_type": "display_data"
    }
   ],
   "source": [
    "fig=plt.figure()\n",
    "ax1=fig.add_subplot(111, label=\"precision\")\n",
    "ax2=ax1.twinx()\n",
    "\n",
    "\n",
    "ax1.plot(plot[0],plot[1],marker='o',ms=15.0,color='r', label='precision')\n",
    "ax1.plot(plot[0],plot[2],marker='s',ms=10,color='b', label='recall')\n",
    "ax2.plot(plot[0],plot[3],marker='^',ms=10,color='g', label='error')\n",
    "\n",
    "ax1.set_ylabel(\"Precision/Recall (%)\")\n",
    "ax2.set_ylabel(\"Error\")\n",
    "ax1.legend(ncol = 2, bbox_to_anchor=(0.45,1.15))\n",
    "ax2.legend(bbox_to_anchor = (0.63, 1.15))\n",
    "\n",
    "fig2=plt.figure()\n",
    "ax3=fig2.add_subplot(111, label=\"error\")\n",
    "ax3.plot(plot[0],plot[4],marker='X',color='cyan',label='execution')\n",
    "ax3.set_ylabel(\"Time (s)\")\n",
    "ax3.legend(bbox_to_anchor = (0.63, 1.15))"
   ]
  },
  {
   "cell_type": "raw",
   "metadata": {},
   "source": []
  },
  {
   "cell_type": "markdown",
   "metadata": {},
   "source": [
    "#### Interprétation\n",
    "Il apparaît que les scores obtenus vont croissant avec la marge. Celà s'accompagne de plus d'un temps d'exécution réduit jusqu'à 1.25, où la qualité de prédiction commence à stagner et les temps d'exécution à augmenter de nouveau.\n",
    "Pour une SVM, on cherche à minimiser la valeur de ce paramètre pour obtenir la marge la plus importante, soit une séparation nette des hyperplans. On choisira donc le paramètre 1.25, qui obtient des résultats comparables aux valeurs supérieures et a de plus l'avantage d'un temps d'exécution mimimal."
   ]
  },
  {
   "cell_type": "markdown",
   "metadata": {},
   "source": [
    "## Paramètres retenus\n",
    "Pour le classifieur SVC, nos résultats indiquent donc qu'il est optimal d'utiliser la fonction noyau RBF et un paramètre de marge C de 1.0.\n",
    "On retiendra également l'alternative d'utiliser la fonction linear comme noyau si l'on souhaite gagner en temps d'exécution. En effet, cette fonction joue à la fois sur les temps d'entraînement et de prédiction, pusique son  rôle est de formater les données en entrée du modèle."
   ]
  },
  {
   "cell_type": "markdown",
   "metadata": {},
   "source": [
    "## Conclusion sur SVC"
   ]
  },
  {
   "cell_type": "markdown",
   "metadata": {},
   "source": [
    "## FIN TP3"
   ]
  }
 ],
 "metadata": {
  "kernelspec": {
   "display_name": "Python 3",
   "language": "python",
   "name": "python3"
  },
  "language_info": {
   "codemirror_mode": {
    "name": "ipython",
    "version": 3
   },
   "file_extension": ".py",
   "mimetype": "text/x-python",
   "name": "python",
   "nbconvert_exporter": "python",
   "pygments_lexer": "ipython3",
   "version": "3.6.6"
  }
 },
 "nbformat": 4,
 "nbformat_minor": 2
}
