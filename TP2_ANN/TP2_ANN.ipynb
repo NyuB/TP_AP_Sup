{
 "cells": [
  {
   "cell_type": "markdown",
   "metadata": {},
   "source": [
    "# TP2 : Multi-Layer Perceptrons"
   ]
  },
  {
   "cell_type": "code",
   "execution_count": 1,
   "metadata": {},
   "outputs": [],
   "source": [
    "#imports\n",
    "from sklearn.datasets import fetch_openml\n",
    "from sklearn.model_selection import train_test_split\n",
    "from sklearn.neural_network import MLPClassifier\n",
    "from sklearn import metrics\n",
    "from time import time\n",
    "import matplotlib.pyplot as plt\n",
    "import numpy as np\n",
    "import warnings"
   ]
  },
  {
   "cell_type": "code",
   "execution_count": 2,
   "metadata": {},
   "outputs": [],
   "source": [
    "#load dataset\n",
    "mnist = fetch_openml('mnist_784')"
   ]
  },
  {
   "cell_type": "markdown",
   "metadata": {},
   "source": [
    "## [1] Echantillonage du jeu de données et séparation en entraînement/test\n",
    "*NB* : Au vu des temps d'exécution constatés, nous nous sommes limité à 1/10 du jeu de données initial, soit 7000 images au lieu des 70000 demandées."
   ]
  },
  {
   "cell_type": "code",
   "execution_count": 3,
   "metadata": {},
   "outputs": [],
   "source": [
    "#choose sample size\n",
    "dataset_length = len(mnist.data)\n",
    "sample_size = 7000\n",
    "sample_size = min(dataset_length,sample_size)\n",
    "\n",
    "#extract sample from dataset\n",
    "sample_indexes = np.random.randint(dataset_length, size= sample_size)\n",
    "data, target = np.array([mnist.data[i] for i in sample_indexes]), np.array([mnist.target[i] for i in sample_indexes])\n",
    "\n",
    "#extract train/test according to the proportion given in the subject\n",
    "train_size = 49000/70000 #keep the given proportion\n",
    "d_train, d_test, l_train, l_test = train_test_split(data,target,train_size = train_size, random_state = 42)"
   ]
  },
  {
   "cell_type": "markdown",
   "metadata": {},
   "source": [
    "## [2] Premiers réseaux de neurones"
   ]
  },
  {
   "cell_type": "markdown",
   "metadata": {},
   "source": [
    "#### Construire un modèle de classification ayant comme paramètre :hidden_layer_sizes = (50) puis calculez la précision du classifieur"
   ]
  },
  {
   "cell_type": "code",
   "execution_count": 4,
   "metadata": {},
   "outputs": [
    {
     "name": "stdout",
     "output_type": "stream",
     "text": [
      "0.8728571428571429\n"
     ]
    }
   ],
   "source": [
    "mlp = MLPClassifier(hidden_layer_sizes=(50), random_state=42)\n",
    "mlp.fit(d_train, l_train)\n",
    "score = mlp.score(d_test, l_test)\n",
    "\n",
    "print(score)"
   ]
  },
  {
   "cell_type": "markdown",
   "metadata": {},
   "source": [
    "#### Afficher la classe de l’image 4 et sa classe prédite"
   ]
  },
  {
   "cell_type": "code",
   "execution_count": 5,
   "metadata": {},
   "outputs": [
    {
     "name": "stdout",
     "output_type": "stream",
     "text": [
      "prediction : 1\n",
      "actual : 1\n"
     ]
    },
    {
     "data": {
      "image/png": "[encoded data removed]",
      "text/plain": [
       "<Figure size 432x288 with 1 Axes>"
      ]
     },
     "metadata": {
      "needs_background": "light"
     },
     "output_type": "display_data"
    }
   ],
   "source": [
    "#Test de prediction = valeur réel \n",
    "img_index = 3 #4th image of the dataset\n",
    "images = data.reshape((-1, 28, 28)) \n",
    "plt.imshow(images[img_index],cmap=plt.cm.gray_r,interpolation=\"nearest\") \n",
    "res = mlp.predict(data[img_index:img_index+1])[0]\n",
    "print(\"prediction :\",res)\n",
    "print(\"actual :\",target[img_index])"
   ]
  },
  {
   "cell_type": "markdown",
   "metadata": {},
   "source": [
    "#### Calculez la précision en utilisant le package : metrics.precision_score(ytest_pr, ypredTest_pr,average='micro')."
   ]
  },
  {
   "cell_type": "code",
   "execution_count": 6,
   "metadata": {},
   "outputs": [
    {
     "name": "stdout",
     "output_type": "stream",
     "text": [
      "0.8728571428571429\n"
     ]
    }
   ],
   "source": [
    "res = mlp.predict(d_test)\n",
    "precision = metrics.precision_score(l_test,\n",
    "                                    res, \n",
    "                                    average='micro')\n",
    "print(precision)"
   ]
  },
  {
   "cell_type": "markdown",
   "metadata": {},
   "source": [
    "## [3] Analyse : Nombres de couches et neurones"
   ]
  },
  {
   "cell_type": "markdown",
   "metadata": {},
   "source": [
    "#### Varier le nombre de couches de 1 entre (2 et 100) couches, et recalculer la précision du classifieur."
   ]
  },
  {
   "cell_type": "code",
   "execution_count": null,
   "metadata": {},
   "outputs": [
    {
     "name": "stdout",
     "output_type": "stream",
     "text": [
      "Execution time for 2 7.285797834396362 s\n"
     ]
    }
   ],
   "source": [
    "best_layers_nb = 0\n",
    "layers_nb_set = [2,5,15,20,25,35,45,55,65]\n",
    "best_score = 0\n",
    "plot = ([],[],[])\n",
    "\n",
    "neurons = np.geomspace(80, 40, num=100, dtype=int)#reduce neuron number gradually to ensure convergence\n",
    "\n",
    "start = time() #TIMER START\n",
    "for layers_nb in layers_nb_set:\n",
    "    start_iter = time()\n",
    "    mlp = MLPClassifier(hidden_layer_sizes=neurons[:layers_nb])\n",
    "    mlp.fit(d_train, l_train)\n",
    "    prediction = mlp.predict(d_test)\n",
    "    score = metrics.precision_score(l_test, prediction, average='micro')\n",
    "    duration_iter = time()-start\n",
    "    if score > best_score:\n",
    "        best_score = score\n",
    "        best_layers_nb = layers_nb\n",
    "    plot[0].append(layers_nb)\n",
    "    plot[1].append(score)\n",
    "    plot[2].append(duration_iter)\n",
    "    print(\"Execution time for\",layers_nb,duration_iter,\"s\")\n",
    "    \n",
    "duration = time()-start #TIMER END\n",
    "\n",
    "fig=plt.figure()\n",
    "ax=fig.add_subplot(111, label=\"precision\")\n",
    "ax2=ax.twinx()\n",
    "\n",
    "ax.set_xlabel(\"n layers\")\n",
    "ax.set_ylabel(\"precision (%)\")\n",
    "ax.set_title(\"Precision et temps d'exécution en fonction du nombre de couches utilisées\")\n",
    "ax.plot(plot[0],plot[1])\n",
    "ax.plot([best_layers_nb],[best_score], marker= 'x', color='r')\n",
    "\n",
    "ax2.set_ylabel(\"temps (s)\")\n",
    "ax2.plot(plot[0],plot[2],color='r')\n",
    "\n",
    "print(\"Optimal layers number :\",best_layers_nb, \"( score :\",best_score,\")\")\n",
    "    "
   ]
  },
  {
   "cell_type": "markdown",
   "metadata": {},
   "source": [
    "#### Interprétation\n",
    "On observe que la précision augmente graduellement puis chute rapidement lorsque l'on dépasse 25 couches.\n",
    "\n",
    "Puisque le temps d'exécution augmente lui fortement avec le nombre de couches, il semble préférable de se limiter à moins d'une vingtaine de couches pour notre analyse, voire moins d'une sizaine pusique là différence en précision est très faible.\n",
    "\n",
    "On notera cependant que le nombre de neurones par couche joue probablement un rôle déterminant dans cette évolution, d'où la nécessité de l'analyse suivante."
   ]
  },
  {
   "cell_type": "markdown",
   "metadata": {},
   "source": [
    "#### Construire cinq modèles de classification des données mnist avec des réseaux qui ont respectivement de 1 à 10 couches cachées, et des tailles de couches entre 10 et 300 neurones au choix d’une façon aléatoire."
   ]
  },
  {
   "cell_type": "code",
   "execution_count": null,
   "metadata": {},
   "outputs": [],
   "source": [
    "def build_random_models(n,layers_nb_range, layers_size_range):\n",
    "    layers_nb = np.random.randint(low = layers_nb_range[0],high = layers_nb_range[1], size = n)\n",
    "    layers_sizes = np.random.randint(low = layers_size_range[0],high = layers_size_range[1], size = n)\n",
    "    res = []\n",
    "    for i in range(n):\n",
    "        nb = layers_nb[i]\n",
    "        size = layers_sizes[i]\n",
    "        model = MLPClassifier(hidden_layer_sizes=[size for j in range(nb)])\n",
    "        res.append((model, nb, size))\n",
    "    return res"
   ]
  },
  {
   "cell_type": "code",
   "execution_count": null,
   "metadata": {},
   "outputs": [],
   "source": [
    "models = build_random_models(5,(1,11),(10,301))\n",
    "results = []\n",
    "for model, nb, size in models:\n",
    "    start = time()\n",
    "    model.fit(d_train, l_train)\n",
    "    prediction = model.predict(d_test)\n",
    "    score = metrics.precision_score(l_test, prediction, average='micro')\n",
    "    duration = time()-start\n",
    "    print(\"Executed\",nb,size,\"score :\",score,\"in\",duration,\"second\")\n",
    "    results.append((score,nb,size,duration))\n",
    "results = sorted(results)\n",
    "for score, nb, size, duration in result:\n",
    "    print(\"Layers :\",nb,\"Neurons :\",size,\"Precision :\",score*100,\"%\",\"Exec :\",duration,\"s\")\n",
    "\n"
   ]
  },
  {
   "cell_type": "markdown",
   "metadata": {},
   "source": [
    "#### Interprétation\n",
    "La précision du modèle augmente avec le nombre de couches(comme vu précedemment) mais surtout avec le nombre de neurones par couche. Etendre ce nombre de neurones représente cependant un coût en temps. Pour une itération, nous avons obtenu un modèle optimal à 94% de précision, avec 10 couches et 251 neurones par courche mais dont l'entraînement + prédiction prenait plus d'une minute sur 7000 données.\n",
    "\n",
    "Un bon compromis semble être trouvé avec un modèle une cinquantaine de neurones sur 8 couches, soit 300 neurones au total, qui obtient un score > 90% pour 20 sec de temps d'exécution total.\n",
    "\n",
    "Par la suite, on conservera ce nombre de 8 couches et 300 neurones comme référence.\n",
    "En revanche, on répartira les neurones de façon moins uniforme entre les couches, par exemple en utilisant np.geomspace pour obtenir une répartition logarithmique."
   ]
  },
  {
   "cell_type": "markdown",
   "metadata": {},
   "source": [
    "## [4] Analyse des paramètres supplémentaires"
   ]
  },
  {
   "cell_type": "code",
   "execution_count": null,
   "metadata": {},
   "outputs": [],
   "source": [
    "#Common parameters for the rest of the analysis\n",
    "layers_nb = 6\n",
    "layers_size = 50\n",
    "\n",
    "up_size = 1.25 * layers_size\n",
    "down_size = 0.75*layers_size\n",
    "\n",
    "neurons = np.geomspace(up_size, down_size, num=layers_nb, dtype=int)#reduce neuron number gradually to ensure convergence"
   ]
  },
  {
   "cell_type": "markdown",
   "metadata": {},
   "source": [
    "#### Algorithmes d'optimisation"
   ]
  },
  {
   "cell_type": "code",
   "execution_count": null,
   "metadata": {},
   "outputs": [],
   "source": [
    "algo_set = ['lbfgs', 'sgd', 'adam']\n",
    "plot = ([],[],[],[],[])\n",
    "for algo in algo_set:\n",
    "    print(\"Algo :\",algo)\n",
    "    start = time()#TIMER START\n",
    "    \n",
    "    mlp = MLPClassifier(hidden_layer_sizes=neurons, solver = algo)\n",
    "    mlp.fit(d_train, l_train)\n",
    "    prediction = mlp.predict(d_test)\n",
    "    \n",
    "    duration = time() - start #TIMER END\n",
    "    \n",
    "    recall = metrics.recall_score(l_test, prediction, average = 'micro')\n",
    "    score = metrics.precision_score(l_test, prediction, average='micro')\n",
    "    error = metrics.zero_one_loss(l_test, prediction)\n",
    "    \n",
    "    plot[0].append(algo)\n",
    "    plot[1].append(score)\n",
    "    plot[2].append(recall)\n",
    "    plot[3].append(error)\n",
    "    plot[4].append(duration)"
   ]
  },
  {
   "cell_type": "code",
   "execution_count": null,
   "metadata": {},
   "outputs": [],
   "source": [
    "fig=plt.figure()\n",
    "ax1=fig.add_subplot(111, label=\"precision\")\n",
    "ax2=ax1.twinx()\n",
    "ax3=ax2.twinx()\n",
    "ax4=ax3.twinx()\n",
    "\n",
    "ax1.plot(plot[0],plot[1],linestyle='None',marker='o',color='r')\n",
    "ax1.set_ylabel(\"Precision (%)\")\n",
    "ax2.plot(plot[0],plot[2],linestyle='None',marker='o',color='b')\n",
    "ax2.set_ylabel(\"Recall (%)\")\n",
    "ax3.plot(plot[0],plot[3],linestyle='None',marker='o',color='g')\n",
    "ax3.set_ylabel(\"Error\")\n",
    "ax4.plot(plot[0],plot[4],linestyle='None',marker='X',color='r')\n",
    "ax4.set_ylabel(\"Execution(s)\")\n",
    "    "
   ]
  },
  {
   "cell_type": "markdown",
   "metadata": {},
   "source": [
    "#### Fonctions d'activations"
   ]
  },
  {
   "cell_type": "code",
   "execution_count": null,
   "metadata": {},
   "outputs": [],
   "source": [
    "function_set = ['identity', 'logistic', 'tanh', 'relu']\n",
    "plot = ([],[],[],[],[])\n",
    "for function in function_set:\n",
    "    print(\"Function :\",function)\n",
    "    start = time()#TIMER START\n",
    "    \n",
    "    mlp = MLPClassifier(hidden_layer_sizes=neurons, activation = function)\n",
    "    mlp.fit(d_train, l_train)\n",
    "    prediction = mlp.predict(d_test)\n",
    "    \n",
    "    duration = time() - start #TIMER END\n",
    "    \n",
    "    recall = metrics.recall_score(l_test, prediction, average = 'micro')\n",
    "    score = metrics.precision_score(l_test, prediction, average='micro')\n",
    "    error = metrics.zero_one_loss(l_test, prediction)\n",
    "    \n",
    "    plot[0].append(function)\n",
    "    plot[1].append(100*score)\n",
    "    plot[2].append(100*recall)\n",
    "    plot[3].append(error)\n",
    "    plot[4].append(duration)"
   ]
  },
  {
   "cell_type": "code",
   "execution_count": null,
   "metadata": {},
   "outputs": [],
   "source": [
    "fig=plt.figure()\n",
    "ax1=fig.add_subplot(111, label=\"precision\")\n",
    "ax2=ax1.twinx()\n",
    "ax3=ax2.twinx()\n",
    "ax4=ax3.twinx()\n",
    "\n",
    "ax1.plot(plot[0],plot[1],linestyle='None',marker='o',color='r')\n",
    "ax1.set_ylabel(\"Precision (%)\")\n",
    "ax2.plot(plot[0],plot[2],linestyle='None',marker='o',color='b')\n",
    "ax2.set_ylabel(\"Recall (%)\")\n",
    "ax3.plot(plot[0],plot[3],linestyle='None',marker='o',color='g')\n",
    "ax3.set_ylabel(\"Error\")\n",
    "ax4.plot(plot[0],plot[4],linestyle='None',marker='X',color='r')\n",
    "ax4.set_ylabel(\"Execution(s)\")"
   ]
  },
  {
   "cell_type": "markdown",
   "metadata": {},
   "source": [
    "#### Régulation L2"
   ]
  },
  {
   "cell_type": "code",
   "execution_count": null,
   "metadata": {},
   "outputs": [],
   "source": [
    "alpha_set = [10**(-i) for i in range(8,0,-1)]\n",
    "plot = ([],[],[],[],[])\n",
    "for alpha in alpha_set:\n",
    "    print(\"Regulation L2 :\",alpha)\n",
    "    start = time()#TIMER START\n",
    "    \n",
    "    mlp = MLPClassifier(hidden_layer_sizes=neurons, alpha = alpha)\n",
    "    mlp.fit(d_train, l_train)\n",
    "    prediction = mlp.predict(d_test)\n",
    "    \n",
    "    duration = time() - start #TIMER END\n",
    "    \n",
    "    recall = metrics.recall_score(l_test, prediction, average = 'micro')\n",
    "    score = metrics.precision_score(l_test, prediction, average='micro')\n",
    "    error = metrics.zero_one_loss(l_test, prediction)\n",
    "    \n",
    "    plot[0].append(alpha)\n",
    "    plot[1].append(100*score)\n",
    "    plot[2].append(100*recall)\n",
    "    plot[3].append(error)\n",
    "    plot[4].append(duration)"
   ]
  },
  {
   "cell_type": "code",
   "execution_count": null,
   "metadata": {},
   "outputs": [],
   "source": [
    "fig=plt.figure()\n",
    "ax1=fig.add_subplot(111, label=\"precision\")\n",
    "ax2=ax1.twinx()\n",
    "ax3=ax2.twinx()\n",
    "ax4=ax3.twinx()\n",
    "\n",
    "ax1.plot(plot[0],plot[1],linestyle='None',marker='o',color='r')\n",
    "ax1.set_ylabel(\"Precision (%)\")\n",
    "ax2.plot(plot[0],plot[2],linestyle='None',marker='o',color='b')\n",
    "ax2.set_ylabel(\"Recall (%)\")\n",
    "ax3.plot(plot[0],plot[3],linestyle='None',marker='o',color='g')\n",
    "ax3.set_ylabel(\"Error\")\n",
    "ax4.plot(plot[0],plot[4],linestyle='None',marker='X',color='r')\n",
    "ax4.set_ylabel(\"Execution(s)\")"
   ]
  },
  {
   "cell_type": "markdown",
   "metadata": {},
   "source": [
    "## FIN TP2"
   ]
  }
 ],
 "metadata": {
  "kernelspec": {
   "display_name": "Python 3",
   "language": "python",
   "name": "python3"
  },
  "language_info": {
   "codemirror_mode": {
    "name": "ipython",
    "version": 3
   },
   "file_extension": ".py",
   "mimetype": "text/x-python",
   "name": "python",
   "nbconvert_exporter": "python",
   "pygments_lexer": "ipython3",
   "version": "3.6.6"
  }
 },
 "nbformat": 4,
 "nbformat_minor": 2
}
