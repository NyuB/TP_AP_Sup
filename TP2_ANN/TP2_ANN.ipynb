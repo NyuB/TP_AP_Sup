{
 "cells": [
  {
   "cell_type": "markdown",
   "metadata": {},
   "source": [
    "# TP2 : Multi-Layer Perceptrons"
   ]
  },
  {
   "cell_type": "code",
   "execution_count": 1,
   "metadata": {},
   "outputs": [],
   "source": [
    "#imports\n",
    "from sklearn.datasets import fetch_openml\n",
    "from sklearn.model_selection import train_test_split\n",
    "from sklearn.neural_network import MLPClassifier\n",
    "from sklearn import metrics\n",
    "from time import time\n",
    "import matplotlib.pyplot as plt\n",
    "import numpy as np\n",
    "import warnings"
   ]
  },
  {
   "cell_type": "code",
   "execution_count": 2,
   "metadata": {},
   "outputs": [],
   "source": [
    "#load dataset\n",
    "mnist = fetch_openml('mnist_784')"
   ]
  },
  {
   "cell_type": "markdown",
   "metadata": {},
   "source": [
    "## [1] Echantillonage du jeu de données et séparation en entraînement/test\n",
    "*NB* : Au vu des temps d'exécution constatés, nous nous sommes limité à 1/10 du jeu de données initial, soit 7000 images au lieu des 70000 demandées."
   ]
  },
  {
   "cell_type": "code",
   "execution_count": 3,
   "metadata": {},
   "outputs": [],
   "source": [
    "#choose sample size\n",
    "dataset_length = len(mnist.data)\n",
    "sample_size = 7000\n",
    "sample_size = min(dataset_length,sample_size)\n",
    "\n",
    "#extract sample from dataset\n",
    "sample_indexes = np.random.randint(dataset_length, size= sample_size)\n",
    "data, target = np.array([mnist.data[i] for i in sample_indexes]), np.array([mnist.target[i] for i in sample_indexes])\n",
    "\n",
    "#extract train/test according to the proportion given in the subject\n",
    "train_size = 49000/70000 #keep the given proportion\n",
    "d_train, d_test, l_train, l_test = train_test_split(data,target,train_size = train_size, random_state = 42)"
   ]
  },
  {
   "cell_type": "markdown",
   "metadata": {},
   "source": [
    "## [2] Premiers réseaux de neurones"
   ]
  },
  {
   "cell_type": "markdown",
   "metadata": {},
   "source": [
    "#### Construire un modèle de classification ayant comme paramètre :hidden_layer_sizes = (50) puis calculez la précision du classifieur"
   ]
  },
  {
   "cell_type": "code",
   "execution_count": 4,
   "metadata": {},
   "outputs": [
    {
     "name": "stdout",
     "output_type": "stream",
     "text": [
      "0.8728571428571429\n"
     ]
    }
   ],
   "source": [
    "mlp = MLPClassifier(hidden_layer_sizes=(50), random_state=42)\n",
    "mlp.fit(d_train, l_train)\n",
    "score = mlp.score(d_test, l_test)\n",
    "\n",
    "print(score)"
   ]
  },
  {
   "cell_type": "markdown",
   "metadata": {},
   "source": [
    "#### Afficher la classe de l’image 4 et sa classe prédite"
   ]
  },
  {
   "cell_type": "code",
   "execution_count": 5,
   "metadata": {},
   "outputs": [
    {
     "name": "stdout",
     "output_type": "stream",
     "text": [
      "prediction : 1\n",
      "actual : 1\n"
     ]
    },
    {
     "data": {
      "image/png": "[encoded data removed]",
      "text/plain": [
       "<Figure size 432x288 with 1 Axes>"
      ]
     },
     "metadata": {
      "needs_background": "light"
     },
     "output_type": "display_data"
    }
   ],
   "source": [
    "#Test de prediction = valeur réel \n",
    "img_index = 3 #4th image of the dataset\n",
    "images = data.reshape((-1, 28, 28)) \n",
    "plt.imshow(images[img_index],cmap=plt.cm.gray_r,interpolation=\"nearest\") \n",
    "res = mlp.predict(data[img_index:img_index+1])[0]\n",
    "print(\"prediction :\",res)\n",
    "print(\"actual :\",target[img_index])"
   ]
  },
  {
   "cell_type": "markdown",
   "metadata": {},
   "source": [
    "#### Calculez la précision en utilisant le package : metrics.precision_score(ytest_pr, ypredTest_pr,average='micro')."
   ]
  },
  {
   "cell_type": "code",
   "execution_count": 6,
   "metadata": {},
   "outputs": [
    {
     "name": "stdout",
     "output_type": "stream",
     "text": [
      "0.8728571428571429\n"
     ]
    }
   ],
   "source": [
    "res = mlp.predict(d_test)\n",
    "precision = metrics.precision_score(l_test,\n",
    "                                    res, \n",
    "                                    average='micro')\n",
    "print(precision)"
   ]
  },
  {
   "cell_type": "markdown",
   "metadata": {},
   "source": [
    "## [3] Analyse : Nombres de couches et neurones"
   ]
  },
  {
   "cell_type": "markdown",
   "metadata": {},
   "source": [
    "#### Varier le nombre de couches de 1 entre (2 et 100) couches, et recalculer la précision du classifieur."
   ]
  },
  {
   "cell_type": "code",
   "execution_count": 7,
   "metadata": {},
   "outputs": [
    {
     "name": "stdout",
     "output_type": "stream",
     "text": [
      "Execution time for 2 7.285797834396362 s\n",
      "Execution time for 5 24.12379765510559 s\n",
      "Execution time for 15 62.011067628860474 s\n",
      "Execution time for 20 116.00975728034973 s\n",
      "Execution time for 25 176.97420454025269 s\n",
      "Execution time for 35 229.22367548942566 s\n",
      "Execution time for 45 275.6719160079956 s\n",
      "Execution time for 55 340.36912202835083 s\n",
      "Execution time for 65 398.13466119766235 s\n",
      "Optimal layers number : 25 ( score : 0.9285714285714286 )\n"
     ]
    },
    {
     "data": {
      "image/png": "[encoded data removed]",
      "text/plain": [
       "<Figure size 432x288 with 2 Axes>"
      ]
     },
     "metadata": {
      "needs_background": "light"
     },
     "output_type": "display_data"
    }
   ],
   "source": [
    "best_layers_nb = 0\n",
    "layers_nb_set = [2,5,15,20,25,35,45,55,65]\n",
    "best_score = 0\n",
    "plot = ([],[],[])\n",
    "\n",
    "neurons = np.geomspace(80, 40, num=100, dtype=int)#reduce neuron number gradually to ensure convergence\n",
    "\n",
    "start = time() #TIMER START\n",
    "for layers_nb in layers_nb_set:\n",
    "    start_iter = time()\n",
    "    mlp = MLPClassifier(hidden_layer_sizes=neurons[:layers_nb])\n",
    "    mlp.fit(d_train, l_train)\n",
    "    prediction = mlp.predict(d_test)\n",
    "    score = metrics.precision_score(l_test, prediction, average='micro')\n",
    "    duration_iter = time()-start\n",
    "    if score > best_score:\n",
    "        best_score = score\n",
    "        best_layers_nb = layers_nb\n",
    "    plot[0].append(layers_nb)\n",
    "    plot[1].append(score)\n",
    "    plot[2].append(duration_iter)\n",
    "    print(\"Execution time for\",layers_nb,duration_iter,\"s\")\n",
    "    \n",
    "duration = time()-start #TIMER END\n",
    "\n",
    "fig=plt.figure()\n",
    "ax=fig.add_subplot(111, label=\"precision\")\n",
    "ax2=ax.twinx()\n",
    "\n",
    "ax.set_xlabel(\"n layers\")\n",
    "ax.set_ylabel(\"precision (%)\")\n",
    "ax.set_title(\"Precision et temps d'exécution en fonction du nombre de couches utilisées\")\n",
    "ax.plot(plot[0],plot[1])\n",
    "ax.plot([best_layers_nb],[best_score], marker= 'x', color='r')\n",
    "\n",
    "ax2.set_ylabel(\"temps (s)\")\n",
    "ax2.plot(plot[0],plot[2],color='r')\n",
    "\n",
    "print(\"Optimal layers number :\",best_layers_nb, \"( score :\",best_score,\")\")\n",
    "    "
   ]
  },
  {
   "cell_type": "markdown",
   "metadata": {},
   "source": [
    "#### Interprétation\n",
    "On observe que la précision augmente graduellement puis chute rapidement lorsque l'on dépasse 25 couches.\n",
    "\n",
    "Puisque le temps d'exécution augmente lui fortement avec le nombre de couches, il semble préférable de se limiter à moins d'une vingtaine de couches pour notre analyse, voire moins d'une sizaine pusique là différence en précision est très faible.\n",
    "\n",
    "On notera cependant que le nombre de neurones par couche joue probablement un rôle déterminant dans cette évolution, d'où la nécessité de l'analyse suivante."
   ]
  },
  {
   "cell_type": "markdown",
   "metadata": {},
   "source": [
    "#### Construire cinq modèles de classification des données mnist avec des réseaux qui ont respectivement de 1 à 10 couches cachées, et des tailles de couches entre 10 et 300 neurones au choix d’une façon aléatoire."
   ]
  },
  {
   "cell_type": "code",
   "execution_count": 8,
   "metadata": {},
   "outputs": [],
   "source": [
    "def build_random_models(n,layers_nb_range, layers_size_range):\n",
    "    layers_nb = np.random.randint(low = layers_nb_range[0],high = layers_nb_range[1], size = n)\n",
    "    layers_sizes = np.random.randint(low = layers_size_range[0],high = layers_size_range[1], size = n)\n",
    "    res = []\n",
    "    for i in range(n):\n",
    "        nb = layers_nb[i]\n",
    "        size = layers_sizes[i]\n",
    "        model = MLPClassifier(hidden_layer_sizes=[size for j in range(nb)])\n",
    "        res.append((model, nb, size))\n",
    "    return res"
   ]
  },
  {
   "cell_type": "code",
   "execution_count": 10,
   "metadata": {},
   "outputs": [
    {
     "name": "stdout",
     "output_type": "stream",
     "text": [
      "Executed 10 97 score : 0.9323809523809524 in 36.176021337509155 second\n",
      "Executed 4 65 score : 0.8804761904761905 in 17.959320783615112 second\n",
      "Executed 8 280 score : 0.9433333333333334 in 72.44878911972046 second\n",
      "Executed 8 98 score : 0.9280952380952381 in 37.62576222419739 second\n",
      "Executed 10 240 score : 0.9433333333333334 in 117.16866421699524 second\n",
      "Layers : 4 Neurons : 65 Precision : 88.04761904761905 % Exec : 17.959320783615112 s\n",
      "Layers : 8 Neurons : 98 Precision : 92.80952380952381 % Exec : 37.62576222419739 s\n",
      "Layers : 10 Neurons : 97 Precision : 93.23809523809524 % Exec : 36.176021337509155 s\n",
      "Layers : 8 Neurons : 280 Precision : 94.33333333333334 % Exec : 72.44878911972046 s\n",
      "Layers : 10 Neurons : 240 Precision : 94.33333333333334 % Exec : 117.16866421699524 s\n"
     ]
    }
   ],
   "source": [
    "models = build_random_models(5,(1,11),(10,301))\n",
    "results = []\n",
    "for model, nb, size in models:\n",
    "    start = time()\n",
    "    model.fit(d_train, l_train)\n",
    "    prediction = model.predict(d_test)\n",
    "    score = metrics.precision_score(l_test, prediction, average='micro')\n",
    "    duration = time()-start\n",
    "    print(\"Executed\",nb,size,\"score :\",score,\"in\",duration,\"second\")\n",
    "    results.append((score,nb,size,duration))\n",
    "results = sorted(results)\n",
    "for score, nb, size, duration in results:\n",
    "    print(\"Layers :\",nb,\"Neurons :\",size,\"Precision :\",score*100,\"%\",\"Exec :\",duration,\"s\")"
   ]
  },
  {
   "cell_type": "markdown",
   "metadata": {},
   "source": [
    "#### Interprétation\n",
    "La précision du modèle augmente avec le nombre de couches(comme vu précedemment) mais surtout avec le nombre de neurones par couche. Etendre ce nombre de neurones représente cependant un coût en temps. Pour une itération, nous avons obtenu un modèle optimal à 94% de précision, avec 10 couches et 251 neurones par courche mais dont l'entraînement + prédiction prenait plus d'une minute sur 7000 données.\n",
    "\n",
    "Un bon compromis semble être trouvé avec un modèle une cinquantaine de neurones sur 8 couches, soit 300 neurones au total, qui obtient un score > 90% pour 20 sec de temps d'exécution total.\n",
    "\n",
    "Par la suite, on conservera ce nombre de 8 couches et 300 neurones comme référence.\n",
    "En revanche, on répartira les neurones de façon moins uniforme entre les couches, par exemple en utilisant np.geomspace pour obtenir une répartition logarithmique."
   ]
  },
  {
   "cell_type": "markdown",
   "metadata": {},
   "source": [
    "## [4] Analyse des paramètres supplémentaires"
   ]
  },
  {
   "cell_type": "code",
   "execution_count": 31,
   "metadata": {},
   "outputs": [],
   "source": [
    "#Common parameters for the rest of the analysis\n",
    "layers_nb = 6\n",
    "layers_size = 50\n",
    "\n",
    "up_size = 1.25 * layers_size\n",
    "down_size = 0.75*layers_size\n",
    "\n",
    "neurons = np.geomspace(up_size, down_size, num=100, dtype=int)#reduce neuron number gradually to ensure convergence\n",
    "neurons = neurons[:layers_nb]"
   ]
  },
  {
   "cell_type": "markdown",
   "metadata": {},
   "source": [
    "#### Algorithmes d'optimisation"
   ]
  },
  {
   "cell_type": "code",
   "execution_count": 32,
   "metadata": {},
   "outputs": [
    {
     "name": "stdout",
     "output_type": "stream",
     "text": [
      "Algo : lbfgs\n",
      "Algo : sgd\n",
      "Algo : adam\n"
     ]
    }
   ],
   "source": [
    "algo_set = ['lbfgs', 'sgd', 'adam']\n",
    "plot = ([],[],[],[],[])\n",
    "for algo in algo_set:\n",
    "    print(\"Algo :\",algo)\n",
    "    start = time()#TIMER START\n",
    "    \n",
    "    mlp = MLPClassifier(hidden_layer_sizes=neurons, solver = algo)\n",
    "    mlp.fit(d_train, l_train)\n",
    "    prediction = mlp.predict(d_test)\n",
    "    \n",
    "    duration = time() - start #TIMER END\n",
    "    \n",
    "    recall = metrics.recall_score(l_test, prediction, average = 'micro')\n",
    "    score = metrics.precision_score(l_test, prediction, average='micro')\n",
    "    error = metrics.zero_one_loss(l_test, prediction)\n",
    "    \n",
    "    plot[0].append(algo)\n",
    "    plot[1].append(score)\n",
    "    plot[2].append(recall)\n",
    "    plot[3].append(error)\n",
    "    plot[4].append(duration)"
   ]
  },
  {
   "cell_type": "code",
   "execution_count": 33,
   "metadata": {},
   "outputs": [
    {
     "data": {
      "text/plain": [
       "Text(0,0.5,'Execution(s)')"
      ]
     },
     "execution_count": 33,
     "metadata": {},
     "output_type": "execute_result"
    },
    {
     "data": {
      "image/png": "[encoded data removed]",
      "text/plain": [
       "<Figure size 432x288 with 4 Axes>"
      ]
     },
     "metadata": {
      "needs_background": "light"
     },
     "output_type": "display_data"
    }
   ],
   "source": [
    "fig=plt.figure()\n",
    "ax1=fig.add_subplot(111, label=\"precision\")\n",
    "ax2=ax1.twinx()\n",
    "ax3=ax2.twinx()\n",
    "ax4=ax3.twinx()\n",
    "\n",
    "ax1.plot(plot[0],plot[1],linestyle='None',marker='o',ms=15.0,color='r')\n",
    "ax1.set_ylabel(\"Precision (%)\")\n",
    "ax2.plot(plot[0],plot[2],linestyle='None',marker='s',ms=10,color='b')\n",
    "ax2.set_ylabel(\"Recall (%)\")\n",
    "ax3.plot(plot[0],plot[3],linestyle='None',marker='^',ms=10,color='g')\n",
    "ax3.set_ylabel(\"Error\")\n",
    "ax4.plot(plot[0],plot[4],linestyle='None',marker='X',color='cyan')\n",
    "ax4.set_ylabel(\"Execution(s)\")\n",
    "    "
   ]
  },
  {
   "cell_type": "markdown",
   "metadata": {},
   "source": [
    "#### Interprétation\n",
    "On observe des scores supérieurs sur tous les points pour les trois algorithmes pour lbfgs, qui semble de plus converger plus rapidement que sgd et adam."
   ]
  },
  {
   "cell_type": "markdown",
   "metadata": {},
   "source": [
    "#### Fonctions d'activations"
   ]
  },
  {
   "cell_type": "code",
   "execution_count": 34,
   "metadata": {},
   "outputs": [
    {
     "name": "stdout",
     "output_type": "stream",
     "text": [
      "Function : identity\n",
      "Function : logistic\n",
      "Function : tanh\n",
      "Function : relu\n"
     ]
    }
   ],
   "source": [
    "algo = 'lbfgs'\n",
    "function_set = ['identity', 'logistic', 'tanh', 'relu']\n",
    "plot = ([],[],[],[],[])\n",
    "for function in function_set:\n",
    "    print(\"Function :\",function)\n",
    "    start = time()#TIMER START\n",
    "    \n",
    "    mlp = MLPClassifier(hidden_layer_sizes=neurons, solver = algo, activation = function)\n",
    "    mlp.fit(d_train, l_train)\n",
    "    prediction = mlp.predict(d_test)\n",
    "    \n",
    "    duration = time() - start #TIMER END\n",
    "    \n",
    "    recall = metrics.recall_score(l_test, prediction, average = 'micro')\n",
    "    score = metrics.precision_score(l_test, prediction, average='micro')\n",
    "    error = metrics.zero_one_loss(l_test, prediction)\n",
    "    \n",
    "    plot[0].append(function)\n",
    "    plot[1].append(100*score)\n",
    "    plot[2].append(100*recall)\n",
    "    plot[3].append(error)\n",
    "    plot[4].append(duration)"
   ]
  },
  {
   "cell_type": "code",
   "execution_count": 39,
   "metadata": {},
   "outputs": [
    {
     "data": {
      "text/plain": [
       "Text(0,0.5,'Execution(s)')"
      ]
     },
     "execution_count": 39,
     "metadata": {},
     "output_type": "execute_result"
    },
    {
     "data": {
      "image/png": "[encoded data removed]",
      "text/plain": [
       "<Figure size 432x288 with 4 Axes>"
      ]
     },
     "metadata": {
      "needs_background": "light"
     },
     "output_type": "display_data"
    }
   ],
   "source": [
    "fig=plt.figure()\n",
    "ax1=fig.add_subplot(111, label=\"precision\")\n",
    "ax2=ax1.twinx()\n",
    "ax3=ax2.twinx()\n",
    "ax4=ax3.twinx()\n",
    "\n",
    "ax1.plot(plot[0],plot[1],linestyle='None',marker='o',ms=15.0,color='r')\n",
    "ax1.set_ylabel(\"Precision(%)\")\n",
    "ax2.plot(plot[0],plot[2],linestyle='None',marker='s',ms=10,color='b')\n",
    "ax2.set_ylabel(\"Recall (%)\")\n",
    "ax3.plot(plot[0],plot[3],linestyle='None',marker='^',ms=10,color='g')\n",
    "ax3.set_ylabel(\"Error\")\n",
    "ax4.plot(plot[0],plot[4],linestyle='None',marker='X',color='cyan')\n",
    "ax4.set_ylabel(\"Execution(s)\")"
   ]
  },
  {
   "cell_type": "markdown",
   "metadata": {},
   "source": [
    "#### Interprétation\n",
    "La fonction la plus intéressante semble demeurer relu. Son temps d'exécution est comparable à celui de la fonction identity, mais les scores de relu sont plus intéressants, quoique légèrement inférieurs à ceux obtenus avec la fonction tahn, mais pour un temps d'exécution moindre."
   ]
  },
  {
   "cell_type": "markdown",
   "metadata": {},
   "source": [
    "#### Régulation L2"
   ]
  },
  {
   "cell_type": "code",
   "execution_count": 40,
   "metadata": {},
   "outputs": [
    {
     "name": "stdout",
     "output_type": "stream",
     "text": [
      "Regulation L2 : 1e-08\n",
      "Regulation L2 : 1e-07\n",
      "Regulation L2 : 1e-06\n",
      "Regulation L2 : 1e-05\n",
      "Regulation L2 : 0.0001\n",
      "Regulation L2 : 0.001\n",
      "Regulation L2 : 0.01\n",
      "Regulation L2 : 0.1\n"
     ]
    }
   ],
   "source": [
    "algo = 'lbfgs'\n",
    "function = 'relu'\n",
    "alpha_set = [10**(-i) for i in range(8,0,-1)]\n",
    "plot = ([],[],[],[],[])\n",
    "for alpha in alpha_set:\n",
    "    print(\"Regulation L2 :\",alpha)\n",
    "    start = time()#TIMER START\n",
    "    \n",
    "    mlp = MLPClassifier(hidden_layer_sizes=neurons, solver = algo, activation = function, alpha = alpha)\n",
    "    mlp.fit(d_train, l_train)\n",
    "    prediction = mlp.predict(d_test)\n",
    "    \n",
    "    duration = time() - start #TIMER END\n",
    "    \n",
    "    recall = metrics.recall_score(l_test, prediction, average = 'micro')\n",
    "    score = metrics.precision_score(l_test, prediction, average='micro')\n",
    "    error = metrics.zero_one_loss(l_test, prediction)\n",
    "    \n",
    "    plot[0].append(alpha)\n",
    "    plot[1].append(100*score)\n",
    "    plot[2].append(100*recall)\n",
    "    plot[3].append(error)\n",
    "    plot[4].append(duration)"
   ]
  },
  {
   "cell_type": "code",
   "execution_count": 41,
   "metadata": {},
   "outputs": [
    {
     "data": {
      "text/plain": [
       "Text(0,0.5,'Execution(s)')"
      ]
     },
     "execution_count": 41,
     "metadata": {},
     "output_type": "execute_result"
    },
    {
     "data": {
      "image/png": "[encoded data removed]",
      "text/plain": [
       "<Figure size 432x288 with 4 Axes>"
      ]
     },
     "metadata": {
      "needs_background": "light"
     },
     "output_type": "display_data"
    }
   ],
   "source": [
    "fig=plt.figure()\n",
    "ax1=fig.add_subplot(111, label=\"precision\")\n",
    "ax2=ax1.twinx()\n",
    "ax3=ax2.twinx()\n",
    "ax4=ax3.twinx()\n",
    "\n",
    "ax1.plot(plot[0],plot[1],marker='o',ms=15.0,color='r')\n",
    "ax1.set_ylabel(\"Precision (%)\")\n",
    "ax2.plot(plot[0],plot[2],marker='s',ms=10,color='b')\n",
    "ax2.set_ylabel(\"Recall (%)\")\n",
    "ax3.plot(plot[0],plot[3],marker='^',ms=10,color='g')\n",
    "ax3.set_ylabel(\"Error\")\n",
    "ax4.plot(plot[0],plot[4],marker='X',color='cyan')\n",
    "ax4.set_ylabel(\"Execution(s)\")"
   ]
  },
  {
   "cell_type": "markdown",
   "metadata": {},
   "source": [
    "#### Interprétation\n",
    "Les scores de classification semblent aller croissant avec la valeur du paramètre alpha, s'accompagnant n\"anmoins d'un temps d'exécution plus important. Cette différencen n'étant pas redhibitoire, on sélectionnera la valeur alpha = 0.1 comme paramètre optimal."
   ]
  },
  {
   "cell_type": "markdown",
   "metadata": {},
   "source": [
    "## Paramètres retenus\n",
    "Pour le classifieur MLP, nos résultats indiquent donc qu'il serait optimal d'utiliser l'algorithme d'optimisation LBFGS, la fonction d'activation relu, et une valeur de régulation L2 à 0.1"
   ]
  },
  {
   "cell_type": "markdown",
   "metadata": {},
   "source": [
    "## Conclusion sur MLP"
   ]
  },
  {
   "cell_type": "markdown",
   "metadata": {},
   "source": [
    "## FIN TP2"
   ]
  }
 ],
 "metadata": {
  "kernelspec": {
   "display_name": "Python 3",
   "language": "python",
   "name": "python3"
  },
  "language_info": {
   "codemirror_mode": {
    "name": "ipython",
    "version": 3
   },
   "file_extension": ".py",
   "mimetype": "text/x-python",
   "name": "python",
   "nbconvert_exporter": "python",
   "pygments_lexer": "ipython3",
   "version": "3.6.6"
  }
 },
 "nbformat": 4,
 "nbformat_minor": 2
}
