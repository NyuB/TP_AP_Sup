{
 "cells": [
  {
   "cell_type": "markdown",
   "metadata": {},
   "source": [
    "## Conclusion : Comparaison KNN / MLP / SVC"
   ]
  },
  {
   "cell_type": "markdown",
   "metadata": {},
   "source": [
    "Ce document présente une comparaison des méthodes de classification étudiées durant les TPs de Machine Learning en 5-SDBD\n",
    "\n",
    "Il s'appuie sur le jeu de données de référence MNIST 784.\n",
    "\n",
    "Les paramètres utilisés ont été choisis d'après les résultats d'analyses individuelles présentées dans trois autres documents joints à ce rapport.\n",
    "\n",
    "Le code python associé à l'analyse est présenté en parallèle de nos commentaires. Nos notebook sont accessibles à l'addresse suivante :\n",
    "\n",
    "https://github.com/NyuB/TP_AP_Sup"
   ]
  },
  {
   "cell_type": "code",
   "execution_count": 1,
   "metadata": {},
   "outputs": [],
   "source": [
    "#imports\n",
    "from sklearn.datasets import fetch_openml\n",
    "from sklearn.model_selection import train_test_split\n",
    "from sklearn.metrics import confusion_matrix\n",
    "from sklearn.neighbors import KNeighborsClassifier\n",
    "from sklearn.neural_network import MLPClassifier\n",
    "from sklearn.svm import SVC\n",
    "from sklearn import metrics\n",
    "from time import time\n",
    "import matplotlib.pyplot as plt\n",
    "import numpy as np\n",
    "import warnings"
   ]
  },
  {
   "cell_type": "code",
   "execution_count": 2,
   "metadata": {},
   "outputs": [],
   "source": [
    "#load dataset\n",
    "mnist = fetch_openml('mnist_784')"
   ]
  },
  {
   "cell_type": "markdown",
   "metadata": {},
   "source": [
    "## [1] Echantillonage du jeu de données et séparation en entraînement/test"
   ]
  },
  {
   "cell_type": "code",
   "execution_count": 3,
   "metadata": {},
   "outputs": [],
   "source": [
    "#choose sample size\n",
    "dataset_length = len(mnist.data)\n",
    "sample_size = 7000\n",
    "sample_size = min(dataset_length,sample_size)\n",
    "\n",
    "#extract sample from dataset\n",
    "sample_indexes = np.random.randint(dataset_length, size= sample_size)\n",
    "data, target = np.array([mnist.data[i] for i in sample_indexes]), np.array([mnist.target[i] for i in sample_indexes])\n",
    "\n",
    "#extract train/test according to the proportion given in the subject\n",
    "train_size = 70/100 #70% de test\n",
    "d_train, d_test, l_train, l_test = train_test_split(data,target,train_size = train_size, random_state = 42)"
   ]
  },
  {
   "cell_type": "markdown",
   "metadata": {},
   "source": [
    "## [2] Paramétrage des modèles\n",
    "Nous utilisons les meilleurs paramètres obtenus suite aux 3 analyses individuelles de ces méthodes"
   ]
  },
  {
   "cell_type": "markdown",
   "metadata": {},
   "source": [
    "#### KNN"
   ]
  },
  {
   "cell_type": "code",
   "execution_count": 4,
   "metadata": {},
   "outputs": [],
   "source": [
    "n_nb = 3\n",
    "dist = 2\n",
    "knn = KNeighborsClassifier(n_nb, p = dist, n_jobs = 1)"
   ]
  },
  {
   "cell_type": "markdown",
   "metadata": {},
   "source": [
    "#### MLP"
   ]
  },
  {
   "cell_type": "code",
   "execution_count": 5,
   "metadata": {},
   "outputs": [],
   "source": [
    "layers_nb = 6\n",
    "layers_size = 50\n",
    "up_size = 1.5 * layers_size\n",
    "down_size = 0.5 *layers_size\n",
    "#reduce neurons number logarithmically to help convergence\n",
    "neurons = np.geomspace(up_size, \n",
    "                       down_size, \n",
    "                       num=layers_nb, \n",
    "                       dtype=int)\n",
    "algo = 'lbfgs'\n",
    "function = 'relu'\n",
    "alpha = 0.1\n",
    "mlp = MLPClassifier(hidden_layer_sizes=neurons, \n",
    "                    solver = algo, \n",
    "                    alpha = alpha, \n",
    "                    activation = function)"
   ]
  },
  {
   "cell_type": "markdown",
   "metadata": {},
   "source": [
    "#### SVC"
   ]
  },
  {
   "cell_type": "code",
   "execution_count": 6,
   "metadata": {},
   "outputs": [],
   "source": [
    "kernel = 'rbf'\n",
    "c = 1.25\n",
    "svc = SVC(kernel = kernel, C = c)"
   ]
  },
  {
   "cell_type": "markdown",
   "metadata": {},
   "source": [
    "## [3] Analyse comparative\n",
    "Pour cette analyse, nous comparerons les différentes modèles sur plusieurs critères :\n",
    "- Précision\n",
    "- Rappel\n",
    "- Erreur\n",
    "- Temps d'entraînement\n",
    "- Temps de prédiction"
   ]
  },
  {
   "cell_type": "code",
   "execution_count": 7,
   "metadata": {},
   "outputs": [],
   "source": [
    "methods = {\"KNN\":knn,\"MLP\":mlp,\"SVC\":svc}"
   ]
  },
  {
   "cell_type": "code",
   "execution_count": 8,
   "metadata": {},
   "outputs": [
    {
     "name": "stdout",
     "output_type": "stream",
     "text": [
      "KNN | Done 0.9357142857142857 % 0.9357142857142857 % 0.06428571428571428 1.6232128143310547 s 20.310720443725586 s\n",
      "MLP | Done 0.9242857142857143 % 0.9242857142857143 % 0.07571428571428573 15.410354614257812 s 0.03412294387817383 s\n",
      "SVC | Done 0.9538095238095238 % 0.9538095238095238 % 0.046190476190476226 12.252198457717896 s 6.542609453201294 s\n"
     ]
    }
   ],
   "source": [
    "plot = ([],[],[],[],[],[])\n",
    "confusions = {k:None for k in methods}\n",
    "for name,clf in methods.items():\n",
    "    print(name,end = '')\n",
    "    train_start = time()\n",
    "    clf.fit(d_train,l_train)\n",
    "    train_duration = time()-train_start\n",
    "    pred_start = time()\n",
    "    prediction = clf.predict(d_test)\n",
    "    pred_duration = time()-pred_start\n",
    "    \n",
    "    recall = metrics.recall_score(l_test, \n",
    "                                  prediction, \n",
    "                                  average = 'micro')\n",
    "    score = metrics.precision_score(l_test, \n",
    "                                    prediction, \n",
    "                                    average='micro')\n",
    "    error = metrics.zero_one_loss(l_test, \n",
    "                                  prediction)\n",
    "    confusion = confusion_matrix(l_test, prediction)\n",
    "    \n",
    "    plot[0].append(name)\n",
    "    plot[1].append(100*score)\n",
    "    plot[2].append(100*recall)\n",
    "    plot[3].append(error)\n",
    "    plot[4].append(train_duration)\n",
    "    plot[5].append(pred_duration)\n",
    "    \n",
    "    confusions[name] = confusion\n",
    "    \n",
    "    \n",
    "    print(\" | Done\",score,\"%\",recall,\"%\",error,train_duration,\"s\",pred_duration,\"s\")"
   ]
  },
  {
   "cell_type": "code",
   "execution_count": 9,
   "metadata": {},
   "outputs": [
    {
     "data": {
      "text/plain": [
       "'Analyse comparative des trois méthodes'"
      ]
     },
     "execution_count": 9,
     "metadata": {},
     "output_type": "execute_result"
    },
    {
     "data": {
      "image/png": "[encoded data removed]",
      "text/plain": [
       "<Figure size 432x288 with 2 Axes>"
      ]
     },
     "metadata": {
      "needs_background": "light"
     },
     "output_type": "display_data"
    },
    {
     "data": {
      "image/png": "[encoded data removed]",
      "text/plain": [
       "<Figure size 432x288 with 1 Axes>"
      ]
     },
     "metadata": {
      "needs_background": "light"
     },
     "output_type": "display_data"
    }
   ],
   "source": [
    "fig=plt.figure()\n",
    "ax1=fig.add_subplot(111, label=\"scores\")\n",
    "ax2 = ax1.twinx()\n",
    "ax2.plot(plot[0],plot[3],\n",
    "         linestyle='None',\n",
    "         marker='^',\n",
    "         color='g', \n",
    "         label = 'error')\n",
    "ax1.plot(plot[0],plot[1],\n",
    "         linestyle='None', marker='o',\n",
    "         ms=15.0, color='r',\n",
    "         label='precision')\n",
    "ax1.plot(plot[0],plot[2],\n",
    "         linestyle='None',marker='s',\n",
    "         ms=10,color='b',\n",
    "         label='recall')\n",
    "\n",
    "ax1.set_ylabel(\"Precision/Recall (%)\")\n",
    "ax2.set_ylabel(\"Error\")\n",
    "ax1.legend(ncol = 2, bbox_to_anchor=(0.45,1.15))\n",
    "ax2.legend(bbox_to_anchor = (0.63, 1.15))\n",
    "\n",
    "fig2 = plt.figure()\n",
    "ax3 = fig2.add_subplot(111, label=\"times\")\n",
    "ax3.plot(plot[0],plot[5],\n",
    "         linestyle='None',marker='X',\n",
    "         color='b', label = 'prediction')\n",
    "ax3.plot(plot[0],plot[4],\n",
    "         linestyle='None',marker='X',\n",
    "         color='cyan', label = 'training')\n",
    "\n",
    "ax3.set_ylabel('Time (s)')\n",
    "ax3.legend(ncol=2,bbox_to_anchor=(0.5,1.15))\n",
    "\n",
    "\"Analyse comparative des trois méthodes\""
   ]
  },
  {
   "cell_type": "markdown",
   "metadata": {},
   "source": [
    "#### Matrices de confusion\n",
    "Nous affichons ici la matrice de confusion des résultats de chaque méthode. Plus un modèle est pércis, plus les scores obtenus seront elévés sur la diagonale de cette matrice. Elle peut également permettre, par exemple, de déterminer quels digits sont plus souvent confondus avec quels autres. Dans le cas où certaines classes à détecter seraient \"proches\" (par exemple des images de chats/chiens) ce type de matrice permettrait également d'envisager d'autres métriques, par exemple pour pondérer l'erreur d'un modèle(moins élevée en confondant deux félins qu'un félin et un oiseau, etc...)\n",
    "\n",
    "Dans notre cas, on peut par exemple identifier que les erreurs portant sur la classification du chiffre 4 proviennent majoritairement d'une confusion aec le chiffre 9"
   ]
  },
  {
   "cell_type": "code",
   "execution_count": 10,
   "metadata": {},
   "outputs": [
    {
     "name": "stdout",
     "output_type": "stream",
     "text": [
      "Confusion Matrix [ KNN ]\n",
      "\n",
      "[[201   0   1   0   0   0   1   0   0   0]\n",
      " [  0 220   1   0   0   0   0   0   0   0]\n",
      " [  4   4 201   0   0   0   0   2   1   0]\n",
      " [  1   6   3 185   0   2   0   1   0   1]\n",
      " [  0   4   0   0 175   0   1   1   0  11]\n",
      " [  2   0   0   6   3 180   4   0   0   2]\n",
      " [  4   1   0   0   0   0 206   0   0   0]\n",
      " [  0   7   0   1   2   1   0 215   0   0]\n",
      " [  5   5   2   9   2  10   0   1 186   5]\n",
      " [  1   1   1   1   3   3   2   6   0 196]]\n",
      "\n",
      "Confusion Matrix [ MLP ]\n",
      "\n",
      "[[191   0   0   0   1   2   5   1   3   0]\n",
      " [  0 213   1   4   0   1   1   1   0   0]\n",
      " [  0   5 193   5   1   0   2   2   4   0]\n",
      " [  0   0   3 179   0   9   0   0   8   0]\n",
      " [  0   0   0   1 181   1   1   0   1   7]\n",
      " [  5   0   2   6   1 180   0   0   1   2]\n",
      " [  2   0   2   0   3   2 199   0   3   0]\n",
      " [  0   1   3   0   1   0   0 212   5   4]\n",
      " [  2   0   4   5   0   8   1   4 198   3]\n",
      " [  1   0   0   0   6   2   2   6   2 195]]\n",
      "\n",
      "Confusion Matrix [ SVC ]\n",
      "\n",
      "[[197   0   0   0   1   0   3   0   2   0]\n",
      " [  0 217   3   0   1   0   0   0   0   0]\n",
      " [  0   0 208   1   0   1   0   0   2   0]\n",
      " [  0   2   3 184   0   5   0   1   3   1]\n",
      " [  0   0   0   0 188   0   0   1   1   2]\n",
      " [  1   0   0   2   0 190   2   0   2   0]\n",
      " [  3   1   0   0   2   0 204   0   1   0]\n",
      " [  1   2   1   1   1   0   0 217   1   2]\n",
      " [  1   1   0   3   0   9   1   0 207   3]\n",
      " [  3   0   1   1   7   4   2   5   0 191]]\n",
      "\n"
     ]
    }
   ],
   "source": [
    "for n,m in confusions.items():\n",
    "    print(\"Confusion Matrix [ {0} ]\\n\".format(n))\n",
    "    print(m)\n",
    "    print(\"\")"
   ]
  },
  {
   "cell_type": "markdown",
   "metadata": {},
   "source": [
    "#### Interprétation\n",
    "En terme de qualité de prédiction pure, le classifieur SVC semble plus indiqué que les deux autres méthodes,obtenant une précision/rappel supérieur à 95% contre 92% et 91.5% pour KNN et MLP respectivement. Le score d'erreur est également plus élevé pour ces deux modèles que pour SVC.\n",
    "\n",
    "Le choix est en revanche plus nuancé si l'on s'intéresse aux temps d'exécution : Le temps de prédiction du modèle MLP est nettement inférieur à celui du modèle SVC, malgré un temps d'entraînement plus important. Or, si l'on se place dans un contexte d'utilisation 'réelle', le temps d'entraînement importe finalement peu, car il ne sera pris en compte qu'un nombre fini de fois contre une infinité potentielle de prédictions une fois en entraînement satisfaisant obtenu. Le modèle KNN semble donc le moins intéressant des trois sur ce critère, le temps d'entraînement étant quasi nul(logique car il s'agit uniquement de stocker le jeu de données d'entraînement) et le temps de prédiction bien supérieur aux deux autres modèles.\n",
    "\n",
    "En conclusion, le choix se fera donc plutôt entre MLP et SVC, avec une préférence pour SVC si l'on valorise la qualité de la prédiction, et MLP si l'on priorise sa rapidité. KNN, bien qu'offrant en apparence un compromis entre les deux en terme de qualité, souffrira bien plus du passage à l'échelle sur des jeux de données plus grands."
   ]
  },
  {
   "cell_type": "markdown",
   "metadata": {},
   "source": [
    "## FIN TP"
   ]
  }
 ],
 "metadata": {
  "kernelspec": {
   "display_name": "Python 3",
   "language": "python",
   "name": "python3"
  },
  "language_info": {
   "codemirror_mode": {
    "name": "ipython",
    "version": 3
   },
   "file_extension": ".py",
   "mimetype": "text/x-python",
   "name": "python",
   "nbconvert_exporter": "python",
   "pygments_lexer": "ipython3",
   "version": "3.6.6"
  }
 },
 "nbformat": 4,
 "nbformat_minor": 2
}
